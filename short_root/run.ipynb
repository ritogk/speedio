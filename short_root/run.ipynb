{
 "cells": [
  {
   "cell_type": "code",
   "execution_count": null,
   "metadata": {},
   "outputs": [],
   "source": [
    "from itertools import permutations\n",
    "from geopy.distance import geodesic\n",
    "\n",
    "# Define the coordinates for each point\n",
    "points = {\n",
    "    \"A\": (35.352710, 136.922681),\n",
    "    \"B\": (35.4011026, 137.1166317),\n",
    "    \"C\": (35.4706643, 137.166793),\n",
    "    \"D\": (35.3703743, 137.1275077),\n",
    "    \"E\": (35.3708889, 137.1639422),\n",
    "    # \"F\": (35.3295618, 137.070714),\n",
    "    # \"G\": (35.316541, 137.193913),\n",
    "    # \"H\": (35.294126, 137.150311),\n",
    "    # \"I\": (35.307856, 137.200093),\n",
    "    # \"J\": (35.223200, 137.050748),\n",
    "    # \"K\": (35.444184, 137.141042),\n",
    "}\n",
    "\n",
    "# Function to calculate the total distance of a route\n",
    "def calculate_route_distance(route):\n",
    "    total_distance = 0\n",
    "    for i in range(len(route) - 1):\n",
    "        total_distance += geodesic(points[route[i]], points[route[i + 1]]).kilometers\n",
    "    return total_distance\n",
    "\n",
    "# 2-opt Swap function\n",
    "def two_opt_swap(route, i, k):\n",
    "    new_route = route[:i]\n",
    "    new_route.extend(reversed(route[i:k + 1]))\n",
    "    new_route.extend(route[k + 1:])\n",
    "    return new_route\n",
    "\n",
    "# Function to execute the 2-opt algorithm\n",
    "def two_opt(route):\n",
    "    improvement = True\n",
    "    while improvement:\n",
    "        improvement = False\n",
    "        for i in range(1, len(route) - 2):\n",
    "            for k in range(i + 1, len(route) - 1):\n",
    "                new_route = two_opt_swap(route, i, k)\n",
    "                if calculate_route_distance(new_route) < calculate_route_distance(route):\n",
    "                    route = new_route\n",
    "                    improvement = True\n",
    "    return route\n",
    "\n",
    "# Initial route without the start/end point A\n",
    "initial_route = list(points.keys())[1:]\n",
    "# Add A as the start and end point\n",
    "initial_route = [\"A\"] + initial_route + [\"A\"]\n",
    "\n",
    "optimized_route = two_opt(initial_route)\n",
    "\n",
    "print(\"Optimized Route:\", optimized_route)\n",
    "print(\"Total Distance:\", calculate_route_distance(optimized_route), \"km\")"
   ]
  }
 ],
 "metadata": {
  "kernelspec": {
   "display_name": "touge-searcher",
   "language": "python",
   "name": "python3"
  },
  "language_info": {
   "codemirror_mode": {
    "name": "ipython",
    "version": 3
   },
   "file_extension": ".py",
   "mimetype": "text/x-python",
   "name": "python",
   "nbconvert_exporter": "python",
   "pygments_lexer": "ipython3",
   "version": "3.11.6"
  }
 },
 "nbformat": 4,
 "nbformat_minor": 2
}
