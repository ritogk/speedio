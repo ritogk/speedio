{
 "cells": [
  {
   "cell_type": "code",
   "execution_count": null,
   "id": "4fa0a623",
   "metadata": {},
   "outputs": [],
   "source": [
    "import pandas as pd\n",
    "\n",
    "### Parameters\n",
    "lat_key = \"lat\"\n",
    "lon_key = \"lon\"\n",
    "\n",
    "### Read file\n",
    "df = pd.read_csv(\"./example.csv\", engine=\"python\")\n",
    "\n",
    "lats = df[lat_key].to_list()\n",
    "lons = df[lon_key].to_list()\n",
    "\n",
    "import folium\n",
    "\n",
    "m = folium.Map(\n",
    "    location=[35.5, 138.5],\n",
    "    zoom_start=8,\n",
    ")\n",
    "\n",
    "for lat,lon in zip(lats,lons):\n",
    "    folium.Marker(\n",
    "        location=[lat,lon],\n",
    "        popup='Lat: {:.5f} Lon: {:.5f}'.format(lat,lon),\n",
    "        icon=folium.Icon(color='red')\n",
    "    ).add_to(m)\n",
    "    \n",
    "m"
   ]
  },
  {
   "cell_type": "code",
   "execution_count": null,
   "id": "5e028cf2",
   "metadata": {},
   "outputs": [],
   "source": []
  },
  {
   "cell_type": "code",
   "execution_count": null,
   "id": "64edcfe8",
   "metadata": {},
   "outputs": [],
   "source": []
  },
  {
   "cell_type": "code",
   "execution_count": null,
   "id": "9a8bde72",
   "metadata": {},
   "outputs": [],
   "source": []
  }
 ],
 "metadata": {
  "kernelspec": {
   "display_name": "Python 3 (ipykernel)",
   "language": "python",
   "name": "python3"
  },
  "language_info": {
   "codemirror_mode": {
    "name": "ipython",
    "version": 3
   },
   "file_extension": ".py",
   "mimetype": "text/x-python",
   "name": "python",
   "nbconvert_exporter": "python",
   "pygments_lexer": "ipython3",
   "version": "3.8.10"
  }
 },
 "nbformat": 4,
 "nbformat_minor": 5
}
