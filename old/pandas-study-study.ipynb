{
 "cells": [
  {
   "cell_type": "code",
   "execution_count": null,
   "metadata": {},
   "outputs": [],
   "source": [
    "import numpy as np\n",
    "import pandas as pd\n",
    "# s = pd.Series(data, index = index)\n",
    "# raw_array = [1,2,3]\n",
    "# np_array = np.array(raw_array)\n",
    "\n",
    "# # s = pd.Series(np_array, index=['first', 'second', 'third'])\n",
    "# # s\n",
    "\n",
    "# s = pd.Series({'fl': 4, 'sl': 5, 'tl': 6})\n",
    "# t = pd.Series({'fl': 4, 'sl': 5, 'tl': 26})\n",
    "# e = pd.Series({'fl': 4, 'sl': 5, 'tl': 36})\n",
    "\n",
    "# d = {'d-1': s, 'd-2': t, 'd-3': e}\n",
    "# df = pd.DataFrame(d)\n",
    "# df_m = df.set_index(['d-1', 'd-2'])\n",
    "# df\n",
    "\n",
    "df = pd.read_csv(\"sample_multi.csv\")\n",
    "# # , index_col=[0,1,2,3]\n",
    "sorted_df = df.sort_index([\"genre\",\"year\",\"month\",\"day\"], ascending=[True, True, True, True])\n",
    "# multi_index = sorted_df.set_index([0, 1, 2, 3])\n",
    "# multi_index"
   ]
  }
 ],
 "metadata": {
  "kernelspec": {
   "display_name": "env",
   "language": "python",
   "name": "python3"
  },
  "language_info": {
   "codemirror_mode": {
    "name": "ipython",
    "version": 3
   },
   "file_extension": ".py",
   "mimetype": "text/x-python",
   "name": "python",
   "nbconvert_exporter": "python",
   "pygments_lexer": "ipython3",
   "version": "3.8.10"
  }
 },
 "nbformat": 4,
 "nbformat_minor": 2
}
