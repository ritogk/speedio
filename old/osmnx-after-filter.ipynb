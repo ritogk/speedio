{
 "cells": [
  {
   "cell_type": "code",
   "execution_count": null,
   "id": "e9670757",
   "metadata": {},
   "outputs": [],
   "source": [
    "import osmnx as ox\n",
    "import folium\n",
    "\n",
    "ox.config(use_cache=True, log_console=True)\n",
    "\n",
    "# 峠道\n",
    "graph = ox.graph_from_point(center_point=(35.33456,136.98990)\n",
    "                                , network_type='drive'\n",
    "                                , dist=1000)\n",
    "\n",
    "# グラフデータをGeoDataFrameに変換\n",
    "gdf_nodes = ox.graph_to_gdfs(graph, nodes=True, edges=False)\n",
    "gdf_edges = ox.graph_to_gdfs(graph, nodes=False, edges=True)\n",
    "\n",
    "# GeoDataFrameを活用した解析と可視化\n",
    "# 道路ネットワークの可視化\n",
    "primary_roads = gdf_edges[gdf_edges[\"highway\"].isin([\"primary\", \"tertiary\", \"secondary\"])]\n",
    "primary_roads.plot()\n",
    "gdf_edges.plot()\n",
    "\n",
    "# # 大通りの道の地図を描画\n",
    "map_osm = ox.graph_from_gdfs(gdf_nodes,primary_roads)\n",
    "ox.plot_graph(map_osm)\n",
    "# 大通りの道の地図を描画\n",
    "map_osm = ox.plot_graph_folium(map_osm, edge_width=2)\n",
    "\n",
    "# 地図を表示\n",
    "map_osm"
   ]
  }
 ],
 "metadata": {
  "kernelspec": {
   "display_name": "Python 3 (ipykernel)",
   "language": "python",
   "name": "python3"
  },
  "language_info": {
   "codemirror_mode": {
    "name": "ipython",
    "version": 3
   },
   "file_extension": ".py",
   "mimetype": "text/x-python",
   "name": "python",
   "nbconvert_exporter": "python",
   "pygments_lexer": "ipython3",
   "version": "3.8.10"
  }
 },
 "nbformat": 4,
 "nbformat_minor": 5
}
