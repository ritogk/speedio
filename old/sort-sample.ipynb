{
 "cells": [
  {
   "cell_type": "code",
   "execution_count": null,
   "id": "e9670757",
   "metadata": {},
   "outputs": [],
   "source": [
    "import pandas as pd\n",
    "\n",
    "def sort_test(x: pd.Series):\n",
    "   # 値がaの場合は0それ以外の場合は1に置き換える。\n",
    "   x.loc[ x == 'a'] = 0\n",
    "   x.loc[ x != 0] = 1\n",
    "   return x\n",
    "   \n",
    "\n",
    "\n",
    "s = pd.Series(['1', 'b', 'D', 'b', 'a', 'x', 'a', 'D', 'b', 'c'])\n",
    "s.sort_values(key=lambda x: sort_test(x))"
   ]
  }
 ],
 "metadata": {
  "kernelspec": {
   "display_name": "Python 3 (ipykernel)",
   "language": "python",
   "name": "python3"
  },
  "language_info": {
   "codemirror_mode": {
    "name": "ipython",
    "version": 3
   },
   "file_extension": ".py",
   "mimetype": "text/x-python",
   "name": "python",
   "nbconvert_exporter": "python",
   "pygments_lexer": "ipython3",
   "version": "3.8.10"
  }
 },
 "nbformat": 4,
 "nbformat_minor": 5
}
