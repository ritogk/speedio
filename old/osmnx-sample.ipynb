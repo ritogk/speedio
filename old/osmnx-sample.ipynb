{
 "cells": [
  {
   "cell_type": "code",
   "execution_count": null,
   "id": "44f2665b",
   "metadata": {},
   "outputs": [],
   "source": [
    "import osmnx as ox\n",
    "import folium\n",
    "\n",
    "# 地域の範囲を指定（例：東京都渋谷区）\n",
    "place_name = \"渋谷区, 東京都, Japan\"\n",
    "\n",
    "# 大通りの道を抽出\n",
    "graph = ox.graph_from_point(center_point=(35.35347,136.92191), network_type='drive', dist=500)\n",
    "\n",
    "# 大通りの道のみを抽出\n",
    "primary_streets = ox.utils_graph.get_largest_component(graph, strongly=True)\n",
    "\n",
    "# 大通りの道の地図を描画\n",
    "map_osm = ox.plot_graph_folium(primary_streets, edge_width=2)\n",
    "\n",
    "# 地図を表示\n",
    "map_osm"
   ]
  },
  {
   "cell_type": "code",
   "execution_count": null,
   "id": "e9670757",
   "metadata": {},
   "outputs": [],
   "source": []
  }
 ],
 "metadata": {
  "kernelspec": {
   "display_name": "Python 3 (ipykernel)",
   "language": "python",
   "name": "python3"
  },
  "language_info": {
   "codemirror_mode": {
    "name": "ipython",
    "version": 3
   },
   "file_extension": ".py",
   "mimetype": "text/x-python",
   "name": "python",
   "nbconvert_exporter": "python",
   "pygments_lexer": "ipython3",
   "version": "3.8.10"
  }
 },
 "nbformat": 4,
 "nbformat_minor": 5
}
