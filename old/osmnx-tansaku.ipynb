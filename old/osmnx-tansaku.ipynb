{
 "cells": [
  {
   "cell_type": "code",
   "execution_count": null,
   "id": "e9670757",
   "metadata": {},
   "outputs": [],
   "source": [
    "import osmnx as ox\n",
    "import folium\n",
    "import geopandas as gpd\n",
    "from typing import List\n",
    "\n",
    "# 峠道\n",
    "graph = ox.graph_from_point(center_point=(35.334446, 136.990590)\n",
    "                                , network_type='drive'\n",
    "                                , dist=2000\n",
    "                                , simplify=True\n",
    "                                , custom_filter='[\"highway\"~\"tertiary|secondary|primary\"]')\n",
    "\n",
    "# グラフデータをGeoDataFrameに変換\n",
    "gdf_nodes = ox.graph_to_gdfs(graph, nodes=True, edges=False)\n",
    "gdf_edges = ox.graph_to_gdfs(graph, nodes=False, edges=True)\n",
    "\n",
    "print(len(gdf_edges))\n",
    "# gdf_edgesからreversedがTrueのものを取り出す\n",
    "print(len(gdf_edges[gdf_edges['reversed'] == False]))\n",
    "\n",
    "ed = gdf_edges[gdf_edges['reversed'] == False]\n",
    "ed.plot()\n",
    "\n",
    "st = gdf_edges[gdf_edges['reversed'] == True]\n",
    "st.plot()"
   ]
  }
 ],
 "metadata": {
  "kernelspec": {
   "display_name": "Python 3 (ipykernel)",
   "language": "python",
   "name": "python3"
  },
  "language_info": {
   "codemirror_mode": {
    "name": "ipython",
    "version": 3
   },
   "file_extension": ".py",
   "mimetype": "text/x-python",
   "name": "python",
   "nbconvert_exporter": "python",
   "pygments_lexer": "ipython3",
   "version": "3.11.6"
  }
 },
 "nbformat": 4,
 "nbformat_minor": 5
}
