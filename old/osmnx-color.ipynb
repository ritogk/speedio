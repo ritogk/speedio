{
 "cells": [
  {
   "cell_type": "code",
   "execution_count": null,
   "id": "e9670757",
   "metadata": {},
   "outputs": [],
   "source": [
    "import osmnx as ox\n",
    "import folium\n",
    "\n",
    "# 峠道\n",
    "graph = ox.graph_from_point(center_point=(35.334446, 136.990590)\n",
    "                                , network_type='drive'\n",
    "                                , dist=1000\n",
    "                                , simplify=True\n",
    "                                , custom_filter='[\"highway\"~\"tertiary|secondary|primary\"]')\n",
    "\n",
    "# グラフデータをGeoDataFrameに変換\n",
    "gdf_nodes = ox.graph_to_gdfs(graph, nodes=True, edges=False)\n",
    "gdf_edges = ox.graph_to_gdfs(graph, nodes=False, edges=True)\n",
    "\n",
    "# target_edges = gdf_edges[gdf_edges[\"highway\"].isin([\"primary\", \"tertiary\", \"secondary\", \"secondary_link\"])]\n",
    "# target_nodes = gdf_nodes[gdf_nodes[\"highway\"].isin([\"primary\", \"tertiary\", \"secondary\", \"secondary_link\"])]\n",
    "\n",
    "for index, edge in gdf_edges.iterrows():\n",
    "  # ジオメトリ内のノードを抽出\n",
    "  nodes_in_geometry = list(edge.geometry.coords)\n",
    "  print(index)\n",
    "  # # ループの処理\n",
    "  # print(\"start:\", edge.name[0])\n",
    "  # for node in nodes_in_geometry:\n",
    "  #   print(node[0])\n",
    "  #   print(node[1])\n",
    "  # print(\"end:\", edge.name[1])\n",
    "      \n",
    "print(len(gdf_edges))\n",
    "print(len(gdf_nodes))\n",
    "\n",
    "G = ox.graph_from_gdfs(gdf_nodes, gdf_edges)\n",
    "edge_color = []\n",
    "for u, v, k, data in G.edges(keys=True, data=True):\n",
    "    if 'highway' in data:\n",
    "        if data['highway'] == 'primary':\n",
    "            edge_color.append('#FF0000')  # 赤色\n",
    "        elif data['highway'] == 'secondary':\n",
    "            edge_color.append('#00FF00')  # 緑色\n",
    "        else:\n",
    "            edge_color.append('#0000FF')  # 青色\n",
    "    else:\n",
    "        edge_color.append('#000000')  # 黒色\n",
    "\n",
    "ox.plot_graph(G, edge_color=edge_color)"
   ]
  }
 ],
 "metadata": {
  "kernelspec": {
   "display_name": "Python 3 (ipykernel)",
   "language": "python",
   "name": "python3"
  },
  "language_info": {
   "codemirror_mode": {
    "name": "ipython",
    "version": 3
   },
   "file_extension": ".py",
   "mimetype": "text/x-python",
   "name": "python",
   "nbconvert_exporter": "python",
   "pygments_lexer": "ipython3",
   "version": "3.8.10"
  }
 },
 "nbformat": 4,
 "nbformat_minor": 5
}
