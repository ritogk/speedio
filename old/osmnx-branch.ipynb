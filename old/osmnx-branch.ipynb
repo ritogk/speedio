{
 "cells": [
  {
   "cell_type": "code",
   "execution_count": null,
   "id": "e9670757",
   "metadata": {},
   "outputs": [],
   "source": [
    "import osmnx as ox\n",
    "import folium\n",
    "\n",
    "ox.config(use_cache=True, log_console=True)\n",
    "\n",
    "# 峠道\n",
    "graph = ox.graph_from_point(center_point=(35.33456,136.98990)\n",
    "                                , network_type='all'\n",
    "                                , dist=1000\n",
    "                                , custom_filter='[\"highway\"~\"tertiary|secondary|primary\"]')\n",
    "\n",
    "def count_branches(G):\n",
    "    count = {}\n",
    "    for u, v, data in G.edges(keys=False, data=True):\n",
    "        if 'junction' in data and data['junction'] == 'roundabout':\n",
    "            continue  # ラウンドアバウトは除外\n",
    "        if u not in count:\n",
    "            count[u] = 0\n",
    "        if v not in count:\n",
    "            count[v] = 0\n",
    "        count[u] += 1\n",
    "        count[v] += 1\n",
    "    return count\n",
    "\n",
    "# エッジの分岐数を計算\n",
    "branches = count_branches(graph)\n",
    "ox.save_graphml(graph,filepath='branch.graphml')\n",
    "\n",
    "ox.plot_graph(graph)\n",
    "\n",
    "map_osm = ox.plot_graph_folium(graph, edge_width=2)\n",
    "map_osm"
   ]
  }
 ],
 "metadata": {
  "kernelspec": {
   "display_name": "Python 3 (ipykernel)",
   "language": "python",
   "name": "python3"
  },
  "language_info": {
   "codemirror_mode": {
    "name": "ipython",
    "version": 3
   },
   "file_extension": ".py",
   "mimetype": "text/x-python",
   "name": "python",
   "nbconvert_exporter": "python",
   "pygments_lexer": "ipython3",
   "version": "3.8.10"
  }
 },
 "nbformat": 4,
 "nbformat_minor": 5
}
