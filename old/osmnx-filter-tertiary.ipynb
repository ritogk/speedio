{
 "cells": [
  {
   "cell_type": "code",
   "execution_count": null,
   "id": "e9670757",
   "metadata": {},
   "outputs": [],
   "source": [
    "import osmnx as ox\n",
    "import folium\n",
    "\n",
    "ox.config(use_cache=True, log_console=True)\n",
    "\n",
    "# 峠道\n",
    "graph = ox.graph_from_point(center_point=(35.33456,136.98990)\n",
    "                                , network_type='all'\n",
    "                                , dist=5000\n",
    "                                , custom_filter='[\"highway\"~\"tertiary|secondary|primary\"]')\n",
    "ox.plot_graph(graph)\n",
    "\n",
    "# 大通りの道の地図を描画\n",
    "map_osm = ox.plot_graph_folium(graph, edge_width=2)\n",
    "\n",
    "# 地図を表示\n",
    "map_osm"
   ]
  }
 ],
 "metadata": {
  "kernelspec": {
   "display_name": "Python 3 (ipykernel)",
   "language": "python",
   "name": "python3"
  },
  "language_info": {
   "codemirror_mode": {
    "name": "ipython",
    "version": 3
   },
   "file_extension": ".py",
   "mimetype": "text/x-python",
   "name": "python",
   "nbconvert_exporter": "python",
   "pygments_lexer": "ipython3",
   "version": "3.8.10"
  }
 },
 "nbformat": 4,
 "nbformat_minor": 5
}
