{
 "cells": [
  {
   "cell_type": "code",
   "execution_count": null,
   "id": "e9670757",
   "metadata": {},
   "outputs": [],
   "source": [
    "import osmnx as ox\n",
    "import folium\n",
    "\n",
    "# 峠道\n",
    "graph = ox.graph_from_point(center_point=(35.334446, 136.990590)\n",
    "                                , network_type='drive'\n",
    "                                , dist=6000\n",
    "                                , simplify=True\n",
    "                                , custom_filter='[\"highway\"~\"tertiary|secondary|primary\"]')\n",
    "\n",
    "# グラフデータをGeoDataFrameに変換\n",
    "gdf_nodes = ox.graph_to_gdfs(graph, nodes=True, edges=False)\n",
    "gdf_edges = ox.graph_to_gdfs(graph, nodes=False, edges=True)\n",
    "\n",
    "gdf_edges.plot()\n",
    "\n",
    "# gdf_edges\n",
    "# target_edges = gdf_edges[gdf_edges[\"highway\"].isin([\"primary\", \"tertiary\", \"secondary\", \"secondary_link\"])]\n",
    "# target_nodes = gdf_nodes[gdf_nodes[\"highway\"].isin([\"primary\", \"tertiary\", \"secondary\", \"secondary_link\"])]\n",
    "\n",
    "# for index, edge in gdf_edges.iterrows():\n",
    "#   # ジオメトリ内のノードを抽出\n",
    "#   nodes_in_geometry = list(edge.geometry.coords)\n",
    "#   # # ループの処理\n",
    "#   print(\"start:\", edge.name[0])\n",
    "#   print(\"end:\", edge.name[1])\n",
    "#   # for node in nodes_in_geometry:\n",
    "#   #   print(node[0])\n",
    "#   #   print(node[1])\n",
    "  \n",
    "      \n",
    "# print(len(gdf_edges))\n",
    "# print(len(gdf_nodes))\n",
    "\n",
    "# G = ox.graph_from_gdfs(gdf_nodes, gdf_edges)\n",
    "G = graph\n",
    "\n",
    "def get_nearest_node_by_coordinates(graph, latitude, longitude):\n",
    "    nearest_node = ox.distance.nearest_nodes(\n",
    "        graph, longitude, latitude, return_dist=False\n",
    "    )\n",
    "    return nearest_node\n",
    "\n",
    "hakatasta_node = get_nearest_node_by_coordinates(G, 35.334446, 136.990590)\n",
    "\n",
    "def get_coordinates_by_node_id(graph, node_id):\n",
    "    node_data = graph.nodes[node_id]\n",
    "    x = node_data['x']\n",
    "    y = node_data['y']\n",
    "    return x, y\n",
    "\n",
    "a = get_coordinates_by_node_id(G, hakatasta_node)\n",
    "node_colors = ['red' if node == hakatasta_node else 'blue' for node in graph.nodes]\n",
    "ox.plot_graph(G, node_color=node_colors)"
   ]
  }
 ],
 "metadata": {
  "kernelspec": {
   "display_name": "Python 3 (ipykernel)",
   "language": "python",
   "name": "python3"
  },
  "language_info": {
   "codemirror_mode": {
    "name": "ipython",
    "version": 3
   },
   "file_extension": ".py",
   "mimetype": "text/x-python",
   "name": "python",
   "nbconvert_exporter": "python",
   "pygments_lexer": "ipython3",
   "version": "3.8.10"
  }
 },
 "nbformat": 4,
 "nbformat_minor": 5
}
