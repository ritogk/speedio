{
 "cells": [
  {
   "cell_type": "code",
   "execution_count": 2,
   "metadata": {},
   "outputs": [
    {
     "name": "stdout",
     "output_type": "stream",
     "text": [
      "Elevation at (34.700888, 136.968054): 18.609989166259766 meters\n"
     ]
    }
   ],
   "source": [
    "from osgeo import gdal\n",
    "\n",
    "def get_elevation(tiff_file, lat, lon):\n",
    "    dataset = gdal.Open(tiff_file, gdal.GA_ReadOnly)\n",
    "    if dataset is None:\n",
    "        return None\n",
    "\n",
    "    # 緯度と経度をピクセル座標に変換\n",
    "    gt = dataset.GetGeoTransform()\n",
    "    x = int((lon - gt[0]) / gt[1])\n",
    "    y = int((lat - gt[3]) / gt[5])\n",
    "\n",
    "    # ピクセル座標から標高を取得\n",
    "    band = dataset.GetRasterBand(1)\n",
    "    elevation = band.ReadAsArray(x, y, 1, 1)[0, 0]\n",
    "\n",
    "    dataset = None  # メモリリークを防ぐためにデータセットを閉じる\n",
    "\n",
    "    return elevation\n",
    "\n",
    "# 使用例\n",
    "tiff_file = \"merge.tif\"\n",
    "latitude = 34.700888\n",
    "longitude = 136.968054\n",
    "elevation = get_elevation(tiff_file, latitude, longitude)\n",
    "print(f\"Elevation at ({latitude}, {longitude}): {elevation} meters\")"
   ]
  }
 ],
 "metadata": {
  "kernelspec": {
   "display_name": "env",
   "language": "python",
   "name": "python3"
  },
  "language_info": {
   "codemirror_mode": {
    "name": "ipython",
    "version": 3
   },
   "file_extension": ".py",
   "mimetype": "text/x-python",
   "name": "python",
   "nbconvert_exporter": "python",
   "pygments_lexer": "ipython3",
   "version": "3.10.12"
  }
 },
 "nbformat": 4,
 "nbformat_minor": 2
}
