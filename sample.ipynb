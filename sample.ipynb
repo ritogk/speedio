{
 "cells": [
  {
   "cell_type": "code",
   "execution_count": null,
   "metadata": {},
   "outputs": [],
   "source": [
    "import matplotlib.pyplot as plt\n",
    "\n",
    "# List of nodes (latitude, longitude)\n",
    "nodes = [\n",
    "    (35.352738, 136.922609), (35.352738, 136.922609),\n",
    "    (35.3840491, 136.9699649), (35.3859818, 136.9643947),\n",
    "    (35.3743498, 137.0004548), (35.3871743, 136.9944583),\n",
    "    (35.3744265, 137.0338598), (35.3654591, 137.026116),\n",
    "    (35.36827, 137.044923), (35.375064, 137.034673),\n",
    "    (35.3533617, 137.0532116), (35.3798419, 137.0596547),\n",
    "    (35.352738, 136.922609), (35.352738, 136.922609)\n",
    "]\n",
    "\n",
    "# Extracting latitude and longitude for plotting\n",
    "latitudes, longitudes = zip(*nodes)\n",
    "\n",
    "# Plotting the nodes\n",
    "plt.figure(figsize=(10, 8))\n",
    "plt.plot(longitudes, latitudes, marker='o', linestyle='-')\n",
    "plt.xlabel('Longitude')\n",
    "plt.ylabel('Latitude')\n",
    "plt.title('Graph Connecting Nodes in Sequence')\n",
    "plt.grid(True)\n",
    "plt.show()\n"
   ]
  }
 ],
 "metadata": {
  "kernelspec": {
   "display_name": "touge-searcher",
   "language": "python",
   "name": "python3"
  },
  "language_info": {
   "codemirror_mode": {
    "name": "ipython",
    "version": 3
   },
   "file_extension": ".py",
   "mimetype": "text/x-python",
   "name": "python",
   "nbconvert_exporter": "python",
   "pygments_lexer": "ipython3",
   "version": "3.11.6"
  }
 },
 "nbformat": 4,
 "nbformat_minor": 2
}
