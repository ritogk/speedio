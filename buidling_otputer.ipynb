{
 "cells": [
  {
   "cell_type": "code",
   "execution_count": null,
   "metadata": {},
   "outputs": [],
   "source": [
    "import osmnx as ox\n",
    "import matplotlib.pyplot as plt\n",
    "\n",
    "# 1. ライブラリのインポート\n",
    "ox.config(use_cache=True, log_console=True)\n",
    "\n",
    "# 地元周辺\n",
    "latitude_start = 35.39373615386415\n",
    "longitude_start = 136.96544201811514\n",
    "latitude_end = 35.313086920304244\n",
    "longitude_end = 137.05720591808108\n",
    "\n",
    "# 2. バウンディングボックスを指定 (緯度と経度の範囲)\n",
    "north=max(latitude_start, latitude_end)\n",
    "south=min(latitude_start, latitude_end)\n",
    "east=max(longitude_start, longitude_end)\n",
    "west=min(longitude_start, longitude_end)\n",
    "\n",
    "# 3. グラフの生成: 指定範囲の道路ネットワークを取得\n",
    "\n",
    "G = ox.graph_from_bbox(north, south, east, west, network_type='all')\n",
    "\n",
    "# 4. 建物の取得: 指定範囲の建物を取得\n",
    "tags = {'building': True}\n",
    "gdf_buildings = ox.geometries_from_bbox(north, south, east, west, tags)\n",
    "\n",
    "# 5. プロット: matplotlibで表示\n",
    "fig, ax = plt.subplots(figsize=(10, 10))\n",
    "\n",
    "# 道路ネットワークをプロット\n",
    "ox.plot_graph(G, ax=ax, show=False, close=False, edge_color=\"green\")\n",
    "\n",
    "# 建物をプロット\n",
    "gdf_buildings.plot(ax=ax, facecolor=\"gray\", edgecolor=\"red\")\n",
    "\n",
    "# タイトルを設定\n",
    "ax.set_title(\"Buildings and Roads in Specified BBox\")\n",
    "\n",
    "# 表示\n",
    "plt.show()\n",
    "\n",
    "gdf_buildings"
   ]
  }
 ],
 "metadata": {
  "kernelspec": {
   "display_name": "touge-searcher",
   "language": "python",
   "name": "python3"
  },
  "language_info": {
   "codemirror_mode": {
    "name": "ipython",
    "version": 3
   },
   "file_extension": ".py",
   "mimetype": "text/x-python",
   "name": "python",
   "nbconvert_exporter": "python",
   "pygments_lexer": "ipython3",
   "version": "3.11.6"
  }
 },
 "nbformat": 4,
 "nbformat_minor": 2
}
