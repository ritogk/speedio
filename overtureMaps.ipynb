{
 "cells": [
  {
   "cell_type": "code",
   "execution_count": null,
   "metadata": {},
   "outputs": [],
   "source": [
    "from overturemaps import core\n",
    "\n",
    "# point1 = (35.670729, 139.739896)\n",
    "# point2 = (35.700196, 139.777419)\n",
    "point1 = (35.35265888743673, 136.90420040765085)\n",
    "point2 = (35.36786512340427, 136.92767335166047)\n",
    "bbox = (point1[1], point1[0], point2[1], point2[0])\n",
    "\n",
    "gdf = core.geodataframe(\"building\", bbox=bbox)\n",
    "\n",
    "# geojsonで保存\n",
    "gdf.to_file(\"building.geojson\", driver=\"GeoJSON\")"
   ]
  }
 ],
 "metadata": {
  "kernelspec": {
   "display_name": "touge-searcher",
   "language": "python",
   "name": "python3"
  },
  "language_info": {
   "codemirror_mode": {
    "name": "ipython",
    "version": 3
   },
   "file_extension": ".py",
   "mimetype": "text/x-python",
   "name": "python",
   "nbconvert_exporter": "python",
   "pygments_lexer": "ipython3",
   "version": "3.12.2"
  }
 },
 "nbformat": 4,
 "nbformat_minor": 2
}
