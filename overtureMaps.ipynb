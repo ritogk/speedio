{
 "cells": [
  {
   "cell_type": "code",
   "execution_count": null,
   "metadata": {},
   "outputs": [],
   "source": [
    "from overturemaps import core\n",
    "\n",
    "point1 = (35.33716566233136, 136.92373022081728)\n",
    "point2 = (35.3290428311632, 136.93913675102053)\n",
    "bbox = (point1[1], point1[0], point2[1], point2[0])\n",
    "\n",
    "gdf = core.geodataframe(\"building_part\", bbox=bbox)\n",
    "\n",
    "gdf.head()"
   ]
  }
 ],
 "metadata": {
  "kernelspec": {
   "display_name": "touge-searcher",
   "language": "python",
   "name": "python3"
  },
  "language_info": {
   "codemirror_mode": {
    "name": "ipython",
    "version": 3
   },
   "file_extension": ".py",
   "mimetype": "text/x-python",
   "name": "python",
   "nbconvert_exporter": "python",
   "pygments_lexer": "ipython3",
   "version": "3.12.2"
  }
 },
 "nbformat": 4,
 "nbformat_minor": 2
}
