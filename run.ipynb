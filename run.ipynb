{
 "cells": [
  {
   "cell_type": "code",
   "execution_count": null,
   "metadata": {},
   "outputs": [],
   "source": [
    "from src.main import main\n",
    "\n",
    "import pandas as pd\n",
    "\n",
    "# シリーズの全要素を表示するための設定\n",
    "# pd.set_option('display.max_rows', None)\n",
    "pd.set_option('display.max_columns', None)\n",
    "\n",
    "gdf = main()\n",
    "\n",
    "gdf\n",
    "\n",
    "# target = gdf.iloc[0]\n",
    "# print(target['length'])\n",
    "\n",
    "# # aの先頭を表示\n",
    "# # 形式[{'elevation': 714.6, 'location': (137.6067953, 35.1731732)},{'elevation': 712.8, 'location': (137.6065928, 35.1729506)}]\n",
    "# elevations = target['elevation_smooth']\n",
    "# # elevationsの変化をグラフに表示\n",
    "# import matplotlib.pyplot as plt\n",
    "\n",
    "# # グラフに表示するためのインデックス（x軸）を生成\n",
    "# indices = list(range(len(elevations)))\n",
    "\n",
    "# # 標高の変化をプロット\n",
    "# plt.plot(indices, elevations)\n",
    "# plt.xlabel('Index')\n",
    "# plt.ylabel('Elevation (m)')\n",
    "# plt.title('Elevation Changes')\n",
    "# plt.show()"
   ]
  }
 ],
 "metadata": {
  "kernelspec": {
   "display_name": "touge-searcher",
   "language": "python",
   "name": "python3"
  },
  "language_info": {
   "codemirror_mode": {
    "name": "ipython",
    "version": 3
   },
   "file_extension": ".py",
   "mimetype": "text/x-python",
   "name": "python",
   "nbconvert_exporter": "python",
   "pygments_lexer": "ipython3",
   "version": "3.11.6"
  }
 },
 "nbformat": 4,
 "nbformat_minor": 2
}
