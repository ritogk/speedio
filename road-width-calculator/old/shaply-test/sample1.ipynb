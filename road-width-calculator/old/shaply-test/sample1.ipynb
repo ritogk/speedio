{
 "cells": [
  {
   "cell_type": "code",
   "execution_count": null,
   "metadata": {},
   "outputs": [],
   "source": [
    "# 特定の点に最も近いLineStringを見つけるサンプル\n",
    "\n",
    "from shapely.geometry import Point, LineString\n",
    "from shapely.ops import nearest_points\n",
    "import matplotlib.pyplot as plt\n",
    "\n",
    "# LineStringのセットを定義\n",
    "line_strings = [\n",
    "    LineString([(0, 0), (1, 1)]),\n",
    "    LineString([(1, 1), (2, 2)]),\n",
    "    LineString([(2, 2), (3, 3)]),\n",
    "    LineString([(5, 2), (5, 3)])\n",
    "]\n",
    "\n",
    "# 比較する特定の座標点\n",
    "point = Point(5, 0.1)\n",
    "\n",
    "# 最も近いLineStringを見つける\n",
    "closest_line = min(line_strings, key=lambda line: line.distance(point))\n",
    "\n",
    "# Matplotlibを使用してLineStringsと点をプロット\n",
    "fig, ax = plt.subplots()\n",
    "\n",
    "# 全てのLineStringsをプロット（最も近いもの以外は青色）\n",
    "for line in line_strings:\n",
    "    if line == closest_line:\n",
    "        ax.plot(*line.xy, color='red', linewidth=3, label='Closest LineString')\n",
    "    else:\n",
    "        ax.plot(*line.xy, color='blue', linewidth=1)\n",
    "\n",
    "# 座標点をプロット\n",
    "ax.plot(*point.xy, 'go', label='Point')\n",
    "\n",
    "# ラベルと凡例の追加\n",
    "ax.legend()\n",
    "plt.show()"
   ]
  }
 ],
 "metadata": {
  "kernelspec": {
   "display_name": "touge-searcher",
   "language": "python",
   "name": "python3"
  },
  "language_info": {
   "codemirror_mode": {
    "name": "ipython",
    "version": 3
   },
   "file_extension": ".py",
   "mimetype": "text/x-python",
   "name": "python",
   "nbconvert_exporter": "python",
   "pygments_lexer": "ipython3",
   "version": "3.11.6"
  }
 },
 "nbformat": 4,
 "nbformat_minor": 2
}
